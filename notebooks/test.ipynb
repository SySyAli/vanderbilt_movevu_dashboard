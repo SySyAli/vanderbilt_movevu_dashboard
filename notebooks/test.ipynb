{
 "cells": [
  {
   "cell_type": "code",
   "execution_count": 14,
   "metadata": {},
   "outputs": [],
   "source": [
    "import pandas as pd\n",
    "import os"
   ]
  },
  {
   "cell_type": "code",
   "execution_count": 15,
   "metadata": {},
   "outputs": [
    {
     "name": "stderr",
     "output_type": "stream",
     "text": [
      "C:\\Users\\syeda\\AppData\\Local\\Temp\\ipykernel_36972\\42297119.py:4: DtypeWarning: Columns (11) have mixed types. Specify dtype option on import or set low_memory=False.\n",
      "  dfs = [pd.read_csv(csv) for csv in csvs]\n"
     ]
    }
   ],
   "source": [
    "# convert all of the csvs in a folder to one parquet with duplicates dropped\n",
    "def csvs_to_parquet(csv_folder, parquet_file):\n",
    "    csvs = [f\"{csv_folder}/{i}\" for i in os.listdir(csv_folder)]\n",
    "    dfs = [pd.read_csv(csv) for csv in csvs]\n",
    "    # grab certain columns and drop duplicates\n",
    "    cols = [\"CARDOFFICE_CARD_NUMBER\", \"CARD_ID_STATUS\", \"RIDE_DATE\", \"BUS\", \"ROUTE\", \"RT_AREA\", \"RTA_COUNT\", \"WEGO_COUNT\", \"FIRST_NAME\", \"LAST_NAME\", \"EMPLOYEE_OR_STUDENT\", \"CAMPUS_ID\"]\n",
    "    for i in range(len(dfs)):\n",
    "        dfs[i] = dfs[i][cols]\n",
    "    df = pd.concat(dfs).drop_duplicates()\n",
    "    df.to_parquet(parquet_file)\n",
    "\n",
    "if __name__ == \"__main__\":\n",
    "    csvs_to_parquet(\"../data/historical\", \"historical_data.parquet\")\n"
   ]
  }
 ],
 "metadata": {
  "kernelspec": {
   "display_name": "vanderbilt_movevu",
   "language": "python",
   "name": "python3"
  },
  "language_info": {
   "codemirror_mode": {
    "name": "ipython",
    "version": 3
   },
   "file_extension": ".py",
   "mimetype": "text/x-python",
   "name": "python",
   "nbconvert_exporter": "python",
   "pygments_lexer": "ipython3",
   "version": "3.12.2"
  }
 },
 "nbformat": 4,
 "nbformat_minor": 2
}
