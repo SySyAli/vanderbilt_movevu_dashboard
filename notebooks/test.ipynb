{
 "cells": [
  {
   "cell_type": "code",
   "execution_count": 14,
   "metadata": {},
   "outputs": [],
   "source": [
    "import pandas as pd\n",
    "import os"
   ]
  },
  {
   "cell_type": "code",
   "execution_count": 15,
   "metadata": {},
   "outputs": [
    {
     "name": "stderr",
     "output_type": "stream",
     "text": [
      "C:\\Users\\syeda\\AppData\\Local\\Temp\\ipykernel_36972\\42297119.py:4: DtypeWarning: Columns (11) have mixed types. Specify dtype option on import or set low_memory=False.\n",
      "  dfs = [pd.read_csv(csv) for csv in csvs]\n"
     ]
    }
   ],
   "source": [
    "# convert all of the csvs in a folder to one parquet with duplicates dropped\n",
    "def csvs_to_parquet(csv_folder, parquet_file):\n",
    "    csvs = [f\"{csv_folder}/{i}\" for i in os.listdir(csv_folder)]\n",
    "    dfs = [pd.read_csv(csv) for csv in csvs]\n",
    "    # grab certain columns and drop duplicates\n",
    "    cols = [\"CARDOFFICE_CARD_NUMBER\", \"CARD_ID_STATUS\", \"RIDE_DATE\", \"BUS\", \"ROUTE\", \"RT_AREA\", \"RTA_COUNT\", \"WEGO_COUNT\", \"FIRST_NAME\", \"LAST_NAME\", \"EMPLOYEE_OR_STUDENT\", \"CAMPUS_ID\"]\n",
    "    for i in range(len(dfs)):\n",
    "        dfs[i] = dfs[i][cols]\n",
    "    df = pd.concat(dfs).drop_duplicates()\n",
    "    df.to_parquet(parquet_file)\n",
    "\n",
    "if __name__ == \"__main__\":\n",
    "    csvs_to_parquet(\"../data/historical\", \"historical_data.parquet\")\n"
   ]
  },
  {
   "cell_type": "code",
   "execution_count": 2,
   "metadata": {},
   "outputs": [
    {
     "data": {
      "text/plain": [
       "{'3': 'West_End',\n",
       " '5': 'West_End/Bellevue',\n",
       " '22': 'Bordeaux',\n",
       " '23': 'Dickerson_Pike',\n",
       " '50': 'Charlotte_Pike',\n",
       " '52': 'Nolansville_Pike',\n",
       " '55': 'Murfreesboro_Pike',\n",
       " '56': 'Gallatin_Pike',\n",
       " '4': 'Shelby',\n",
       " '6': 'Lebanon_Pike',\n",
       " '7': 'Hillsboro_Pike',\n",
       " '8': '8th_Avenue_South',\n",
       " '9': 'MetroCenter',\n",
       " '14': 'Whites_Creek',\n",
       " '17': '12th_Avenue_South',\n",
       " '18': 'Airport',\n",
       " '19': 'Herman',\n",
       " '28': 'Meridian',\n",
       " '29': 'Jefferson',\n",
       " '34': 'Opry Mills',\n",
       " '41': 'Golden Valley',\n",
       " '42': 'St._Cecilia/Cumberland',\n",
       " '25': 'Midtown',\n",
       " '70': 'Bellevue',\n",
       " '75': 'Midtown',\n",
       " '76': 'Madison',\n",
       " '77': 'Thompson/Wedgewood',\n",
       " '79': 'Skyline',\n",
       " '84': 'Murfreesboro',\n",
       " '86': 'Smyrna/La_Vergne',\n",
       " '87': 'Gallatin/Hendersonville',\n",
       " '88': 'Dickson',\n",
       " '89': 'Springfield/Joelton',\n",
       " '94': 'Clarksville',\n",
       " '95': 'Spring_Hill/Franklin',\n",
       " '64': 'Star_Downtown_Shuttle',\n",
       " '93': 'Star_West_End_Shuttle'}"
      ]
     },
     "execution_count": 2,
     "metadata": {},
     "output_type": "execute_result"
    }
   ],
   "source": [
    "# Setting up Nashville's Bus Route as a Dictionary\n",
    "WEGO_FREQUENT_SERVICE = {\n",
    "    3: \"West_End\",\n",
    "    5: \"West_End/Bellevue\",\n",
    "    22: \"Bordeaux\",\n",
    "    23: \"Dickerson_Pike\",\n",
    "    50: \"Charlotte_Pike\",\n",
    "    52: \"Nolansville_Pike\",\n",
    "    55: \"Murfreesboro_Pike\",\n",
    "    56: \"Gallatin_Pike\"\n",
    "}\n",
    "\n",
    "\n",
    "WEGO_LOCAL_SERVICE = {\n",
    "    4: \"Shelby\",\n",
    "    6: \"Lebanon_Pike\",\n",
    "    7: \"Hillsboro_Pike\",\n",
    "    8: \"8th_Avenue_South\",\n",
    "    9: \"MetroCenter\",\n",
    "    14: \"Whites_Creek\",\n",
    "    17: \"12th_Avenue_South\",\n",
    "    18: \"Airport\",\n",
    "    19: \"Herman\",\n",
    "    28: \"Meridian\",\n",
    "    29: \"Jefferson\",\n",
    "    34: \"Opry Mills\",\n",
    "    41: \"Golden Valley\",\n",
    "    42: \"St._Cecilia/Cumberland\"\n",
    "}\n",
    "\n",
    "WEGO_CONNECTOR_SERVICE = {\n",
    "    25: \"Midtown\",\n",
    "    70: \"Bellevue\",\n",
    "    75: \"Midtown\",\n",
    "    76: \"Madison\",\n",
    "    77: \"Thompson/Wedgewood\",\n",
    "    79: \"Skyline\"\n",
    "}\n",
    "\n",
    "WEGO_EXPRESS_SERVICE = {\n",
    "    84: \"Murfreesboro\",\n",
    "    86: \"Smyrna/La_Vergne\",\n",
    "    87: \"Gallatin/Hendersonville\",\n",
    "    88: \"Dickson\",\n",
    "    89: \"Springfield/Joelton\",\n",
    "    94: \"Clarksville\",\n",
    "    95: \"Spring_Hill/Franklin\"\n",
    "}\n",
    "\n",
    "WEGO_TRAIN_SERVICE = {\n",
    "    64: \"Star_Downtown_Shuttle\",\n",
    "    93: \"Star_West_End_Shuttle\"\n",
    "}\n",
    "\n",
    "WEGO_ALL_ROUTES = {**WEGO_FREQUENT_SERVICE, **WEGO_LOCAL_SERVICE, **WEGO_CONNECTOR_SERVICE, **WEGO_EXPRESS_SERVICE, **WEGO_TRAIN_SERVICE}\n",
    "# turn all of the keys into strings\n",
    "WEGO_ALL_ROUTES = {str(k): v for k, v in WEGO_ALL_ROUTES.items()}\n",
    "WEGO_ALL_ROUTES"
   ]
  }
 ],
 "metadata": {
  "kernelspec": {
   "display_name": "vanderbilt_movevu",
   "language": "python",
   "name": "python3"
  },
  "language_info": {
   "codemirror_mode": {
    "name": "ipython",
    "version": 3
   },
   "file_extension": ".py",
   "mimetype": "text/x-python",
   "name": "python",
   "nbconvert_exporter": "python",
   "pygments_lexer": "ipython3",
   "version": "3.12.2"
  }
 },
 "nbformat": 4,
 "nbformat_minor": 2
}
